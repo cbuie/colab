{
  "nbformat": 4,
  "nbformat_minor": 0,
  "metadata": {
    "colab": {
      "name": "Airbnb-lab-preprocessing.ipynb",
      "provenance": [],
      "toc_visible": true,
      "authorship_tag": "ABX9TyN1L8xbbKh6slGxQWc18mzg",
      "include_colab_link": true
    },
    "kernelspec": {
      "name": "python3",
      "display_name": "Python 3"
    }
  },
  "cells": [
    {
      "cell_type": "markdown",
      "metadata": {
        "id": "view-in-github",
        "colab_type": "text"
      },
      "source": [
        "<a href=\"https://colab.research.google.com/github/cbuie/colab/blob/master/airbnb/Airbnb_lab_preprocessing.ipynb\" target=\"_parent\"><img src=\"https://colab.research.google.com/assets/colab-badge.svg\" alt=\"Open In Colab\"/></a>"
      ]
    },
    {
      "cell_type": "markdown",
      "metadata": {
        "id": "V9Mw8aHSiCVk",
        "colab_type": "text"
      },
      "source": [
        "# Airbnb Analysis for Chicago, New York, and London."
      ]
    },
    {
      "cell_type": "markdown",
      "metadata": {
        "id": "7ZBlqvT8bHfL",
        "colab_type": "text"
      },
      "source": [
        "## Illustrative Guide to modeling variable importance with Airbnb pricing data.\n",
        "## Preporocessing the raw data\n",
        "**The Purpose of this notebook is to construct a repetative data preprocessing pipeline. This notebook can be used to run any city from the Airbnb data set and produce the same/similar (some features may not be relavant for certain locations, e.g. zipcode is not relevant to London) data output for modeling pricing.**\n",
        "<hr>\n",
        "\n",
        "The data used for this illustrative analysis is downloaded from [Insideairbnb.com](https://insideairbnb.com/).\n",
        "\n",
        "According to the source, Inside Airbnb is an independent, non-commercial set of data that allows you to explore how Airbnb is being used in various cities around the world.\n",
        "\n",
        "By analyzing publicly available information about a city's Airbnb's listings, Inside Airbnb provides filters and key metrics where we can see how Airbnb is being used to compete with the residential housing market.\n",
        "\n",
        "With Inside Airbnb, you can ask fundamental questions about Airbnb in any neighborhood, or across the city as a whole. Questions such as:\n",
        "\n",
        "- How many listings are in a neighborhood and where are they?\n",
        "- What are global (city wide) or local (all the way down to a single unit) historical Airbnb trends \n",
        "- How many houses and apartments are being rented out frequently to tourists and not to long-term residents?\n",
        "- How much are hosts making from renting to tourists (compare that to long-term rentals)\n",
        "- \"Which hosts are running a business with multiple listings and where they?\n",
        "- etc..\n",
        "\n",
        "While the data is a rich resource, there are some limitation to using the data. Like nearly evey real dataset, the data quality is fairly poor and requires preprocessing and feature engineering. To utilize as much of the data as we can we will use imputation techniques to fill missing values. \n",
        "\n",
        "There are many features in this dataset but many of them are incomplete and either need be refined using imputation or dropped from the analysis. \n",
        "\n",
        "This data is similar to our rental data in that the data only consists of advertised price. The advertised prices can be set to any arbitrary amount by the host, and hosts that are less experienced with Airbnb will often set these to very low or very high amounts. This dataset is naive to the actual amount paid on a per night basis. Even with the described limitation, I believe this data to be informative of the Airbnb dynamics of a city. ​\n",
        "\n",
        "<hr>\n"
      ]
    },
    {
      "cell_type": "markdown",
      "metadata": {
        "id": "75aeV5ePg6We",
        "colab_type": "text"
      },
      "source": [
        "# Getting Setup"
      ]
    },
    {
      "cell_type": "markdown",
      "metadata": {
        "id": "6szUE_20d4ao",
        "colab_type": "text"
      },
      "source": [
        "### Install additional environmental requirements.\n",
        "\n",
        "- Colab comes preconfigured with the majority of the dependencies needed for this lab, but we need to add a few for exploratory data analysis.\n",
        "\n"
      ]
    },
    {
      "cell_type": "code",
      "metadata": {
        "id": "f_fyVqL4iBcB",
        "colab_type": "code",
        "colab": {}
      },
      "source": [
        "# # Important library for many geopython libraries\n",
        "\n",
        "# !apt install gdal-bin python-gdal python3-gdal tree\n",
        "# # Install rtree - Geopandas requirment\n",
        "# !apt install python3-rtree \n",
        "# # Install Geopandas\n",
        "# !pip install git+git://github.com/geopandas/geopandas.git\n",
        "# # Install descartes - Geopandas requirment\n",
        "# !pip install descartes \n",
        "# # Install Folium for Geographic data visualization\n",
        "# !pip install folium\n",
        "# # Install plotlyExpress\n",
        "# !pip install plotly_express\n",
        "# !pip install quilt\n",
        "# !quilt install ResidentMario/missingno_data"
      ],
      "execution_count": 0,
      "outputs": []
    },
    {
      "cell_type": "markdown",
      "metadata": {
        "id": "86nyLQgZfuQq",
        "colab_type": "text"
      },
      "source": [
        "### Mount Google Drive\n",
        "- For any city we will need two files. \n",
        " - listings.csv.gz\n",
        " - neighbourhoods.geojson\n",
        "\n",
        "I have downloaded these files to Google Drive. In this next step we will need to mount My Drive to our linux virtual machine.\n"
      ]
    },
    {
      "cell_type": "code",
      "metadata": {
        "id": "qSE3CGHTeOkI",
        "colab_type": "code",
        "outputId": "8784c39c-315a-4f43-a326-583841b3ee84",
        "colab": {
          "base_uri": "https://localhost:8080/",
          "height": 54
        }
      },
      "source": [
        "from google.colab import drive\n",
        "drive.mount('/content/drive')"
      ],
      "execution_count": 0,
      "outputs": [
        {
          "output_type": "stream",
          "text": [
            "Drive already mounted at /content/drive; to attempt to forcibly remount, call drive.mount(\"/content/drive\", force_remount=True).\n"
          ],
          "name": "stdout"
        }
      ]
    },
    {
      "cell_type": "markdown",
      "metadata": {
        "id": "QhgwSHl-hMb0",
        "colab_type": "text"
      },
      "source": [
        "### Load python libraries"
      ]
    },
    {
      "cell_type": "code",
      "metadata": {
        "id": "Cixg3g-ufiYR",
        "colab_type": "code",
        "colab": {}
      },
      "source": [
        "# Importing required libraries\n",
        "import pandas as pd\n",
        "import numpy as np\n",
        "import missingno as msno\n",
        "from IPython.core.display import HTML\n",
        "from datetime import datetime\n",
        "import seaborn as sns\n",
        "import geopandas as gpd\n",
        "import time\n",
        "from IPython.display import SVG\n",
        "plt.style.use('dark_background')\n",
        "plt.rcParams.update({\n",
        "    \"lines.color\": \"white\",\n",
        "    \"patch.edgecolor\": \"white\",\n",
        "    \"text.color\": \"white\",\n",
        "    \"axes.facecolor\": \"#383838\",\n",
        "    \"axes.edgecolor\": \"lightgray\",\n",
        "    \"axes.labelcolor\": \"white\",\n",
        "    \"xtick.color\": \"white\",\n",
        "    \"ytick.color\": \"white\",\n",
        "    \"grid.color\": \"lightgray\",\n",
        "    \"figure.facecolor\": \"#383838\",\n",
        "    \"figure.edgecolor\": \"#383838\",\n",
        "    })\n",
        "%matplotlib inline"
      ],
      "execution_count": 0,
      "outputs": []
    },
    {
      "cell_type": "markdown",
      "metadata": {
        "id": "fnAH6z_1iQ9e",
        "colab_type": "text"
      },
      "source": [
        "### Load Data:\n",
        "\n",
        "- You can choose anyway you want to get the data into the environment. From here on the notebook should handle everything the same.\n",
        "\n"
      ]
    },
    {
      "cell_type": "code",
      "metadata": {
        "id": "d4aOsuyViPof",
        "colab_type": "code",
        "colab": {}
      },
      "source": [
        "raw_df = pd.read_csv('/content/drive/My Drive/data/london.csv',low_memory=False)\n",
        "pd.set_option('display.max_rows', 50) #set the number of visible rows\n",
        "pd.set_option('display.max_columns', 110) #set the number of visible columns"
      ],
      "execution_count": 0,
      "outputs": []
    },
    {
      "cell_type": "code",
      "metadata": {
        "id": "EXVAZmydr80F",
        "colab_type": "code",
        "outputId": "1137161e-187c-46e7-eef7-3203419733b9",
        "colab": {
          "base_uri": "https://localhost:8080/",
          "height": 89
        }
      },
      "source": [
        "HTML(\"<h2>Our data has {0} rows and {1} columns.</h2> <p>Let's check our data completeness.</p>\".format(raw_df.shape[0],raw_df.shape[1]))"
      ],
      "execution_count": 0,
      "outputs": [
        {
          "output_type": "execute_result",
          "data": {
            "text/html": [
              "<h2>Our data has 85068 rows and 106 columns.</h2> <p>Let's check our data completeness.</p>"
            ],
            "text/plain": [
              "<IPython.core.display.HTML object>"
            ]
          },
          "metadata": {
            "tags": []
          },
          "execution_count": 583
        }
      ]
    },
    {
      "cell_type": "code",
      "metadata": {
        "id": "ROIUTew2hbNf",
        "colab_type": "code",
        "outputId": "81d332ba-6628-49c9-bf25-5adcf772dbdb",
        "colab": {
          "base_uri": "https://localhost:8080/",
          "height": 1000
        }
      },
      "source": [
        "raw_df.info(verbose=True,null_counts=True)"
      ],
      "execution_count": 0,
      "outputs": [
        {
          "output_type": "stream",
          "text": [
            "<class 'pandas.core.frame.DataFrame'>\n",
            "RangeIndex: 85068 entries, 0 to 85067\n",
            "Data columns (total 106 columns):\n",
            "id                                              85068 non-null int64\n",
            "listing_url                                     85068 non-null object\n",
            "scrape_id                                       85068 non-null int64\n",
            "last_scraped                                    85068 non-null object\n",
            "name                                            85043 non-null object\n",
            "summary                                         80736 non-null object\n",
            "space                                           59218 non-null object\n",
            "description                                     82683 non-null object\n",
            "experiences_offered                             85068 non-null object\n",
            "neighborhood_overview                           54694 non-null object\n",
            "notes                                           32799 non-null object\n",
            "transit                                         54320 non-null object\n",
            "access                                          45748 non-null object\n",
            "interaction                                     49782 non-null object\n",
            "house_rules                                     49261 non-null object\n",
            "thumbnail_url                                   0 non-null float64\n",
            "medium_url                                      0 non-null float64\n",
            "picture_url                                     85068 non-null object\n",
            "xl_picture_url                                  0 non-null float64\n",
            "host_id                                         85068 non-null int64\n",
            "host_url                                        85068 non-null object\n",
            "host_name                                       85056 non-null object\n",
            "host_since                                      85056 non-null object\n",
            "host_location                                   84840 non-null object\n",
            "host_about                                      49317 non-null object\n",
            "host_response_time                              59168 non-null object\n",
            "host_response_rate                              59168 non-null object\n",
            "host_acceptance_rate                            0 non-null float64\n",
            "host_is_superhost                               85056 non-null object\n",
            "host_thumbnail_url                              85056 non-null object\n",
            "host_picture_url                                85056 non-null object\n",
            "host_neighbourhood                              66322 non-null object\n",
            "host_listings_count                             85056 non-null float64\n",
            "host_total_listings_count                       85056 non-null float64\n",
            "host_verifications                              85068 non-null object\n",
            "host_has_profile_pic                            85056 non-null object\n",
            "host_identity_verified                          85056 non-null object\n",
            "street                                          85068 non-null object\n",
            "neighbourhood                                   85067 non-null object\n",
            "neighbourhood_cleansed                          85068 non-null object\n",
            "neighbourhood_group_cleansed                    0 non-null float64\n",
            "city                                            84821 non-null object\n",
            "state                                           68948 non-null object\n",
            "zipcode                                         83184 non-null object\n",
            "market                                          84280 non-null object\n",
            "smart_location                                  85068 non-null object\n",
            "country_code                                    85068 non-null object\n",
            "country                                         85068 non-null object\n",
            "latitude                                        85068 non-null float64\n",
            "longitude                                       85068 non-null float64\n",
            "is_location_exact                               85068 non-null object\n",
            "property_type                                   85068 non-null object\n",
            "room_type                                       85068 non-null object\n",
            "accommodates                                    85068 non-null int64\n",
            "bathrooms                                       84947 non-null float64\n",
            "bedrooms                                        84979 non-null float64\n",
            "beds                                            84919 non-null float64\n",
            "bed_type                                        85068 non-null object\n",
            "amenities                                       85068 non-null object\n",
            "square_feet                                     397 non-null float64\n",
            "price                                           85068 non-null object\n",
            "weekly_price                                    6956 non-null object\n",
            "monthly_price                                   4965 non-null object\n",
            "security_deposit                                55943 non-null object\n",
            "cleaning_fee                                    64071 non-null object\n",
            "guests_included                                 85068 non-null int64\n",
            "extra_people                                    85068 non-null object\n",
            "minimum_nights                                  85068 non-null int64\n",
            "maximum_nights                                  85068 non-null int64\n",
            "minimum_minimum_nights                          85068 non-null int64\n",
            "maximum_minimum_nights                          85068 non-null int64\n",
            "minimum_maximum_nights                          85068 non-null int64\n",
            "maximum_maximum_nights                          85068 non-null int64\n",
            "minimum_nights_avg_ntm                          85068 non-null float64\n",
            "maximum_nights_avg_ntm                          85068 non-null float64\n",
            "calendar_updated                                85068 non-null object\n",
            "has_availability                                85068 non-null object\n",
            "availability_30                                 85068 non-null int64\n",
            "availability_60                                 85068 non-null int64\n",
            "availability_90                                 85068 non-null int64\n",
            "availability_365                                85068 non-null int64\n",
            "calendar_last_scraped                           85068 non-null object\n",
            "number_of_reviews                               85068 non-null int64\n",
            "number_of_reviews_ltm                           85068 non-null int64\n",
            "first_review                                    65062 non-null object\n",
            "last_review                                     65062 non-null object\n",
            "review_scores_rating                            63446 non-null float64\n",
            "review_scores_accuracy                          63393 non-null float64\n",
            "review_scores_cleanliness                       63407 non-null float64\n",
            "review_scores_checkin                           63345 non-null float64\n",
            "review_scores_communication                     63401 non-null float64\n",
            "review_scores_location                          63347 non-null float64\n",
            "review_scores_value                             63346 non-null float64\n",
            "requires_license                                85068 non-null object\n",
            "license                                         179 non-null object\n",
            "jurisdiction_names                              2 non-null object\n",
            "instant_bookable                                85068 non-null object\n",
            "is_business_travel_ready                        85068 non-null object\n",
            "cancellation_policy                             85068 non-null object\n",
            "require_guest_profile_picture                   85068 non-null object\n",
            "require_guest_phone_verification                85068 non-null object\n",
            "calculated_host_listings_count                  85068 non-null int64\n",
            "calculated_host_listings_count_entire_homes     85068 non-null int64\n",
            "calculated_host_listings_count_private_rooms    85068 non-null int64\n",
            "calculated_host_listings_count_shared_rooms     85068 non-null int64\n",
            "reviews_per_month                               65062 non-null float64\n",
            "dtypes: float64(23), int64(21), object(62)\n",
            "memory usage: 68.8+ MB\n"
          ],
          "name": "stdout"
        }
      ]
    },
    {
      "cell_type": "markdown",
      "metadata": {
        "id": "gqLpH8hQVNC6",
        "colab_type": "text"
      },
      "source": [
        "# Processing Data:"
      ]
    },
    {
      "cell_type": "markdown",
      "metadata": {
        "id": "BrE_3R56tbI2",
        "colab_type": "text"
      },
      "source": [
        "### Visualizing missing data across our features.\n",
        "\n",
        "- Missing Data by Columns, filter to less than 50 to see column names."
      ]
    },
    {
      "cell_type": "code",
      "metadata": {
        "id": "eUyp9oY7h3t9",
        "colab_type": "code",
        "outputId": "ca17948e-e598-4a9c-b1d9-3ce0ec59e63e",
        "colab": {
          "base_uri": "https://localhost:8080/",
          "height": 621
        }
      },
      "source": [
        "raw_df = raw_df.replace(\"nan\", np.nan)\n",
        "msno.matrix(raw_df.iloc[:,:100].sample(raw_df.shape[0]),fontsize=9,color=(.3, .84, .77),sort='ascending');\n",
        "print(\"Missing Data by Columns, filter to less than 50 to see column names\")"
      ],
      "execution_count": 0,
      "outputs": [
        {
          "output_type": "stream",
          "text": [
            "Missing Data by Columns, filter to less than 50 to see column names\n"
          ],
          "name": "stdout"
        },
        {
          "output_type": "display_data",
          "data": {
            "image/png": "[encoded data removed]",
            "text/plain": [
              "<Figure size 1800x720 with 2 Axes>"
            ]
          },
          "metadata": {
            "tags": []
          }
        }
      ]
    },
    {
      "cell_type": "markdown",
      "metadata": {
        "id": "0PTYO0qfuTU9",
        "colab_type": "text"
      },
      "source": [
        "## Copy And Drop Unecessary Data:\n",
        "\n",
        "Becuase this is an illustrative example we will not be running any Natural Language Processing techniques on the free form text features. However we might be able to enhace our feature set by generating more data from these text features later on if we need to. \n",
        "\n",
        "\n"
      ]
    },
    {
      "cell_type": "code",
      "metadata": {
        "id": "r4DGVYVcmmjN",
        "colab_type": "code",
        "colab": {}
      },
      "source": [
        "cols_to_drop = ['listing_url', 'scrape_id', 'last_scraped', 'name', 'summary', 'space', 'description', 'neighborhood_overview', 'notes', 'transit', 'access', 'interaction', 'house_rules', 'thumbnail_url', 'medium_url', 'picture_url', 'xl_picture_url', 'host_id', 'host_url', 'host_name', 'host_location', 'host_about', 'host_thumbnail_url', 'host_picture_url', 'host_neighbourhood', 'host_verifications', 'calendar_last_scraped']\n",
        "df = raw_df.drop(cols_to_drop, axis=1).set_index('id',drop=True) #make a copy of our raw data"
      ],
      "execution_count": 0,
      "outputs": []
    },
    {
      "cell_type": "markdown",
      "metadata": {
        "id": "sjw7dTu-G_yX",
        "colab_type": "text"
      },
      "source": [
        "Because we are looking at specific cities in the same country we can drop redundant location data."
      ]
    },
    {
      "cell_type": "code",
      "metadata": {
        "id": "tkvtOXGBHAqm",
        "colab_type": "code",
        "colab": {}
      },
      "source": [
        "# lat_long = df[['latitude', 'longitude']]\n",
        "df.drop(['street', 'neighbourhood', 'city', 'market', 'smart_location', 'country_code', 'country', 'is_location_exact'], axis=1, inplace=True)"
      ],
      "execution_count": 0,
      "outputs": []
    },
    {
      "cell_type": "code",
      "metadata": {
        "id": "Qd8helr9vbxC",
        "colab_type": "code",
        "outputId": "b29a1ece-cdb3-40f6-a65b-d67fee241614",
        "colab": {
          "base_uri": "https://localhost:8080/",
          "height": 500
        }
      },
      "source": [
        "df.isna().sum()[df.isna().sum()>100].sort_values().plot(kind='barh',figsize=(12,8),color=(.3, .84, .77))"
      ],
      "execution_count": 0,
      "outputs": [
        {
          "output_type": "execute_result",
          "data": {
            "text/plain": [
              "<matplotlib.axes._subplots.AxesSubplot at 0x7f54f2b577f0>"
            ]
          },
          "metadata": {
            "tags": []
          },
          "execution_count": 588
        },
        {
          "output_type": "display_data",
          "data": {
            "image/png": "[encoded data removed]",
            "text/plain": [
              "<Figure size 864x576 with 1 Axes>"
            ]
          },
          "metadata": {
            "tags": []
          }
        }
      ]
    },
    {
      "cell_type": "code",
      "metadata": {
        "id": "F4QJh5p9vd7R",
        "colab_type": "code",
        "outputId": "d7a23809-69f2-4e7f-cc9b-bc76c53db7f8",
        "colab": {
          "base_uri": "https://localhost:8080/",
          "height": 255
        }
      },
      "source": [
        "missing_val_columns_to_drop = list(df.isna().sum()[df.isna().sum()>1000].index)\n",
        "missing_val_columns_to_drop.remove('host_response_time') #added back\n",
        "missing_val_columns_to_drop.remove('host_response_rate') #added back\n",
        "missing_val_columns_to_drop.remove('cleaning_fee') #added back\n",
        "missing_val_columns_to_drop.remove('security_deposit') #added back\n",
        "missing_val_columns_to_drop.remove('first_review') #added back\n",
        "missing_val_columns_to_drop.remove('review_scores_rating') #added back\n",
        "missing_val_columns_to_drop.remove('review_scores_accuracy') #added back\n",
        "missing_val_columns_to_drop.remove('review_scores_cleanliness') #added back\n",
        "missing_val_columns_to_drop.remove('review_scores_value') #added back\n",
        "missing_val_columns_to_drop.remove('last_review') #added back\n",
        "print(\"columns to drop\",pd.DataFrame(missing_val_columns_to_drop))"
      ],
      "execution_count": 0,
      "outputs": [
        {
          "output_type": "stream",
          "text": [
            "columns to drop                                0\n",
            "0           host_acceptance_rate\n",
            "1   neighbourhood_group_cleansed\n",
            "2                          state\n",
            "3                        zipcode\n",
            "4                    square_feet\n",
            "5                   weekly_price\n",
            "6                  monthly_price\n",
            "7          review_scores_checkin\n",
            "8    review_scores_communication\n",
            "9         review_scores_location\n",
            "10                       license\n",
            "11            jurisdiction_names\n",
            "12             reviews_per_month\n"
          ],
          "name": "stdout"
        }
      ]
    },
    {
      "cell_type": "code",
      "metadata": {
        "id": "DMpNPSsLDFvI",
        "colab_type": "code",
        "colab": {}
      },
      "source": [
        "df.drop(missing_val_columns_to_drop, axis=1, inplace=True)"
      ],
      "execution_count": 0,
      "outputs": []
    },
    {
      "cell_type": "markdown",
      "metadata": {
        "id": "xcCPx9WTGpG7",
        "colab_type": "text"
      },
      "source": [
        "### Drop repetative columns:"
      ]
    },
    {
      "cell_type": "code",
      "metadata": {
        "id": "Q6Srq9kbE-vC",
        "colab_type": "code",
        "outputId": "c725ce2b-9f49-4ad4-fe27-10cd409cd98b",
        "colab": {
          "base_uri": "https://localhost:8080/",
          "height": 34
        }
      },
      "source": [
        "print( \"Number of mismatches : \",str(sum((df.host_listings_count == df.host_total_listings_count) == False)))\n",
        "df.drop(['host_total_listings_count', 'calculated_host_listings_count', 'calculated_host_listings_count_entire_homes', 'calculated_host_listings_count_private_rooms', 'calculated_host_listings_count_shared_rooms'], axis=1, inplace=True)\n",
        "# df[[\"host_listings_count\",\"host_total_listings_count\"]]\n",
        "# df.loc[((df.host_listings_count == df.host_total_listings_count) == False)][:5]"
      ],
      "execution_count": 0,
      "outputs": [
        {
          "output_type": "stream",
          "text": [
            "Number of mismatches :  12\n"
          ],
          "name": "stdout"
        }
      ]
    },
    {
      "cell_type": "markdown",
      "metadata": {
        "id": "pl4pQX-PIFoJ",
        "colab_type": "text"
      },
      "source": [
        "There are multiple columns for minimum and maximum night stays, but the two main ones will be used as there are few differences between e.g. minimum_nights and minimum_minimum_nights. The latter presumably refers to the fact that min/max night stays can vary over the year. The default (i.e. most frequently applied) min/max night stay values will be used instead."
      ]
    },
    {
      "cell_type": "code",
      "metadata": {
        "id": "y60hMlYLFePf",
        "colab_type": "code",
        "colab": {}
      },
      "source": [
        "df.drop(['minimum_minimum_nights', 'maximum_minimum_nights', 'minimum_maximum_nights', 'maximum_maximum_nights', 'minimum_nights_avg_ntm', 'maximum_nights_avg_ntm'], axis=1, inplace=True)"
      ],
      "execution_count": 0,
      "outputs": []
    },
    {
      "cell_type": "code",
      "metadata": {
        "id": "doGfRxq2IUqD",
        "colab_type": "code",
        "outputId": "4d200273-3cbc-4de4-b595-42fa8a21ac16",
        "colab": {
          "base_uri": "https://localhost:8080/",
          "height": 1000
        }
      },
      "source": [
        "# Replacing columns with f/t with 0/1\n",
        "df.replace({'f': 0, 't': 1}, inplace=True)\n",
        "\n",
        "# Plotting the distribution of numerical and boolean categories\n",
        "df.hist(figsize=(20,20),color=(.3, .84, .77));"
      ],
      "execution_count": 0,
      "outputs": [
        {
          "output_type": "display_data",
          "data": {
            "image/png": "[encoded data removed]",
            "text/plain": [
              "<Figure size 1440x1440 with 30 Axes>"
            ]
          },
          "metadata": {
            "tags": []
          }
        }
      ]
    },
    {
      "cell_type": "markdown",
      "metadata": {
        "id": "-UAnMz8_I4aa",
        "colab_type": "text"
      },
      "source": [
        "### to do\n",
        "We will drop anything that doesn't have adequate classes\n"
      ]
    },
    {
      "cell_type": "code",
      "metadata": {
        "id": "1eJnjHBdIYfn",
        "colab_type": "code",
        "colab": {}
      },
      "source": [
        "# df.drop(['has_availability', 'host_has_profile_pic', 'is_business_travel_ready', 'require_guest_phone_verification', 'require_guest_profile_picture', 'requires_license'], axis=1, inplace=True)\n",
        "# df.drop('experiences_offered', axis=1, inplace=True)\n",
        "# # Number of rows without a value for multiple host-related columns\n",
        "# df.dropna(subset=['host_since'], inplace=True)\n",
        "# df.drop('bed_type', axis=1, inplace=True)\n",
        "df.drop('calendar_updated', axis=1, inplace=True)"
      ],
      "execution_count": 0,
      "outputs": []
    },
    {
      "cell_type": "markdown",
      "metadata": {
        "id": "F2-sHI2lKKuh",
        "colab_type": "text"
      },
      "source": [
        "## Cleaning Data Columns:"
      ]
    },
    {
      "cell_type": "code",
      "metadata": {
        "id": "iYoBvOu6JhgP",
        "colab_type": "code",
        "outputId": "78188e4f-1230-45b6-cb8a-bd1fbe8b91a1",
        "colab": {
          "base_uri": "https://localhost:8080/",
          "height": 51
        }
      },
      "source": [
        "# Converting to datetime\n",
        "df.host_since = pd.to_datetime(df.host_since) \n",
        "\n",
        "# Calculating the number of days\n",
        "df['host_days_active'] = (datetime.now() - df.host_since).astype('timedelta64[D]')\n",
        "\n",
        "# Printing mean and median\n",
        "print(\"Mean days as host:\", round(df['host_days_active'].mean(),0))\n",
        "print(\"Median days as host:\", df['host_days_active'].median())\n",
        "\n",
        "# Replacing null values with the median\n",
        "df.host_days_active.fillna(df.host_days_active.median(), inplace=True)"
      ],
      "execution_count": 0,
      "outputs": [
        {
          "output_type": "stream",
          "text": [
            "Mean days as host: 1562.0\n",
            "Median days as host: 1574.0\n"
          ],
          "name": "stdout"
        }
      ]
    },
    {
      "cell_type": "code",
      "metadata": {
        "id": "1VoezXANKcCZ",
        "colab_type": "code",
        "outputId": "9a5391d0-318f-4dda-d7b4-82dad4be60fa",
        "colab": {
          "base_uri": "https://localhost:8080/",
          "height": 170
        }
      },
      "source": [
        "print(\"Null values:\", df.host_response_time.isna().sum())\n",
        "print(f\"Proportion: {round((df.host_response_time.isna().sum()/len(df))*100, 1)}%\")\n",
        "\n",
        "# # Number of rows without a value for host_response_time which have also not yet had a review\n",
        "len(df[df[['host_response_time', 'first_review']].isnull().sum(axis=1) == 2])\n",
        "df.host_response_time.fillna(\"unknown\", inplace=True)\n",
        "print(\"-- -- --\")\n",
        "df.host_response_time.value_counts(normalize=True)"
      ],
      "execution_count": 0,
      "outputs": [
        {
          "output_type": "stream",
          "text": [
            "Null values: 25900\n",
            "Proportion: 30.4%\n",
            "-- -- --\n"
          ],
          "name": "stdout"
        },
        {
          "output_type": "execute_result",
          "data": {
            "text/plain": [
              "within an hour        0.440248\n",
              "unknown               0.304462\n",
              "within a few hours    0.143062\n",
              "within a day          0.092479\n",
              "a few days or more    0.019749\n",
              "Name: host_response_time, dtype: float64"
            ]
          },
          "metadata": {
            "tags": []
          },
          "execution_count": 596
        }
      ]
    },
    {
      "cell_type": "code",
      "metadata": {
        "id": "vBCAAhtCK6i9",
        "colab_type": "code",
        "outputId": "2225b214-1a87-4009-dcf9-c37f3a25c432",
        "colab": {
          "base_uri": "https://localhost:8080/",
          "height": 119
        }
      },
      "source": [
        "# Removing the % sign from the host_response_rate string and converting to an integer\n",
        "df.host_response_rate = df.host_response_rate.str[:-1].astype('float64')\n",
        "# Bin into four categories\n",
        "df.host_response_rate = pd.cut(df.host_response_rate, bins=[0, 50, 90, 99, 100], labels=['0-49%', '50-89%', '90-99%', '100%'], include_lowest=True)\n",
        "\n",
        "# Converting to string\n",
        "df.host_response_rate = df.host_response_rate.astype('str')\n",
        "\n",
        "# Replace nulls with 'unknown'\n",
        "df.host_response_rate.replace('nan', 'unknown', inplace=True)\n",
        "\n",
        "# Category counts\n",
        "df.host_response_rate.value_counts()"
      ],
      "execution_count": 0,
      "outputs": [
        {
          "output_type": "execute_result",
          "data": {
            "text/plain": [
              "100%       39938\n",
              "unknown    25900\n",
              "50-89%      9194\n",
              "90-99%      7675\n",
              "0-49%       2361\n",
              "Name: host_response_rate, dtype: int64"
            ]
          },
          "metadata": {
            "tags": []
          },
          "execution_count": 597
        }
      ]
    },
    {
      "cell_type": "markdown",
      "metadata": {
        "id": "F-fDxTsRPei9",
        "colab_type": "text"
      },
      "source": [
        "### Property Type"
      ]
    },
    {
      "cell_type": "code",
      "metadata": {
        "id": "wir5KgqUN5QN",
        "colab_type": "code",
        "outputId": "52a6fe5f-a131-48c6-a55c-233846fbe438",
        "colab": {
          "base_uri": "https://localhost:8080/",
          "height": 731
        }
      },
      "source": [
        "df.property_type.value_counts()"
      ],
      "execution_count": 0,
      "outputs": [
        {
          "output_type": "execute_result",
          "data": {
            "text/plain": [
              "Apartment                 56265\n",
              "House                     17879\n",
              "Condominium                2984\n",
              "Townhouse                  2983\n",
              "Serviced apartment         1489\n",
              "Loft                        745\n",
              "Bed and breakfast           645\n",
              "Guest suite                 366\n",
              "Guesthouse                  305\n",
              "Boutique hotel              235\n",
              "Other                       199\n",
              "Hostel                      187\n",
              "Hotel                       162\n",
              "Bungalow                    138\n",
              "Cottage                      92\n",
              "Tiny house                   65\n",
              "Boat                         61\n",
              "Villa                        59\n",
              "Aparthotel                   49\n",
              "Houseboat                    35\n",
              "Cabin                        20\n",
              "Camper/RV                    17\n",
              "Earth house                  16\n",
              "Chalet                       12\n",
              "Hut                          11\n",
              "Barn                          8\n",
              "Casa particular (Cuba)        7\n",
              "Farm stay                     6\n",
              "Yurt                          5\n",
              "Tent                          4\n",
              "Treehouse                     3\n",
              "Dome house                    3\n",
              "Lighthouse                    2\n",
              "Campsite                      2\n",
              "Bus                           2\n",
              "Island                        2\n",
              "Minsu (Taiwan)                1\n",
              "Ryokan (Japan)                1\n",
              "Plane                         1\n",
              "Parking Space                 1\n",
              "Nature lodge                  1\n",
              "Name: property_type, dtype: int64"
            ]
          },
          "metadata": {
            "tags": []
          },
          "execution_count": 598
        }
      ]
    },
    {
      "cell_type": "code",
      "metadata": {
        "id": "4ZPErpbGPicu",
        "colab_type": "code",
        "colab": {}
      },
      "source": [
        "# Replacing categories that are types of houses or apartments\n",
        "df.property_type.replace({\n",
        "    'Townhouse': 'House',\n",
        "    'Serviced apartment': 'Apartment',\n",
        "    'Loft': 'Apartment',\n",
        "    'Bungalow': 'House',\n",
        "    'Cottage': 'House',\n",
        "    'Villa': 'House',\n",
        "    'Tiny house': 'House',\n",
        "    'Earth house': 'House',\n",
        "    'Chalet': 'House'  \n",
        "    }, inplace=True)\n",
        "\n",
        "# Replacing other categories with 'other'\n",
        "df.loc[~df.property_type.isin(['House', 'Apartment']), 'property_type'] = 'Other'"
      ],
      "execution_count": 0,
      "outputs": []
    },
    {
      "cell_type": "code",
      "metadata": {
        "id": "4zPcex_BPyAV",
        "colab_type": "code",
        "colab": {}
      },
      "source": [
        "for col in ['bathrooms', 'bedrooms', 'beds']:\n",
        "    df[col].fillna(df[col].median(), inplace=True)"
      ],
      "execution_count": 0,
      "outputs": []
    },
    {
      "cell_type": "markdown",
      "metadata": {
        "id": "qagXKtmUQNJR",
        "colab_type": "text"
      },
      "source": [
        "### Amenities"
      ]
    },
    {
      "cell_type": "code",
      "metadata": {
        "id": "KUZRiXbPP3WE",
        "colab_type": "code",
        "outputId": "f6d8792a-a664-4b2f-d773-abbd016bdd7c",
        "colab": {
          "base_uri": "https://localhost:8080/",
          "height": 1000
        }
      },
      "source": [
        "# Creating a set of all possible amenities\n",
        "amenities_list = list(df.amenities)\n",
        "amenities_list_string = \" \".join(amenities_list)\n",
        "amenities_list_string = amenities_list_string.replace('{', '')\n",
        "amenities_list_string = amenities_list_string.replace('}', ',')\n",
        "amenities_list_string = amenities_list_string.replace('\"', '')\n",
        "amenities_set = [x.strip() for x in amenities_list_string.split(',')]\n",
        "amenities_set = set(amenities_set)\n",
        "amenities_set"
      ],
      "execution_count": 0,
      "outputs": [
        {
          "output_type": "execute_result",
          "data": {
            "text/plain": [
              "{'',\n",
              " '24-hour check-in',\n",
              " 'Accessible-height bed',\n",
              " 'Accessible-height toilet',\n",
              " 'Air conditioning',\n",
              " 'Air purifier',\n",
              " 'Alfresco bathtub',\n",
              " 'Amazon Echo',\n",
              " 'Apple TV',\n",
              " 'BBQ grill',\n",
              " 'Baby bath',\n",
              " 'Baby monitor',\n",
              " 'Babysitter recommendations',\n",
              " 'Balcony',\n",
              " 'Bath towel',\n",
              " 'Bathroom essentials',\n",
              " 'Bathtub',\n",
              " 'Bathtub with bath chair',\n",
              " 'Beach essentials',\n",
              " 'Beach view',\n",
              " 'Beachfront',\n",
              " 'Bed linens',\n",
              " 'Bedroom comforts',\n",
              " 'Bidet',\n",
              " 'Body soap',\n",
              " 'Breakfast',\n",
              " 'Breakfast bar',\n",
              " 'Breakfast table',\n",
              " 'Building staff',\n",
              " 'Buzzer/wireless intercom',\n",
              " 'Cable TV',\n",
              " 'Carbon monoxide detector',\n",
              " 'Cat(s)',\n",
              " 'Ceiling fan',\n",
              " 'Ceiling fans',\n",
              " 'Ceiling hoist',\n",
              " 'Central air conditioning',\n",
              " 'Changing table',\n",
              " 'Charcoal barbeque',\n",
              " \"Chef's kitchen\",\n",
              " 'Children’s books and toys',\n",
              " 'Children’s dinnerware',\n",
              " 'Cleaning before checkout',\n",
              " 'Coffee maker',\n",
              " 'Convection oven',\n",
              " 'Cooking basics',\n",
              " 'Crib',\n",
              " 'DVD player',\n",
              " 'Day bed',\n",
              " 'Dining area',\n",
              " 'Dining table',\n",
              " 'Disabled parking spot',\n",
              " 'Dishes and silverware',\n",
              " 'Dishwasher',\n",
              " 'Dog(s)',\n",
              " 'Doorman',\n",
              " 'Double oven',\n",
              " 'Dryer',\n",
              " 'Dual vanity',\n",
              " 'EV charger',\n",
              " 'Electric profiling bed',\n",
              " 'Elevator',\n",
              " 'En suite bathroom',\n",
              " 'Espresso machine',\n",
              " 'Essentials',\n",
              " 'Ethernet connection',\n",
              " 'Exercise equipment',\n",
              " 'Extra pillows and blankets',\n",
              " 'Extra space around bed',\n",
              " 'Family/kid friendly',\n",
              " 'Fax machine',\n",
              " 'Fire extinguisher',\n",
              " 'Fire pit',\n",
              " 'Fireplace guards',\n",
              " 'Firm mattress',\n",
              " 'First aid kit',\n",
              " 'Fixed grab bars for shower',\n",
              " 'Fixed grab bars for toilet',\n",
              " 'Flat path to guest entrance',\n",
              " 'Formal dining area',\n",
              " 'Free parking on premises',\n",
              " 'Free street parking',\n",
              " 'Full kitchen',\n",
              " 'Game console',\n",
              " 'Garden',\n",
              " 'Garden or backyard',\n",
              " 'Gas fireplace',\n",
              " 'Gas oven',\n",
              " 'Ground floor access',\n",
              " 'Gym',\n",
              " 'HBO GO',\n",
              " 'Hair dryer',\n",
              " 'Hammock',\n",
              " 'Handheld shower head',\n",
              " 'Hangers',\n",
              " 'Heat lamps',\n",
              " 'Heated floors',\n",
              " 'Heated towel rack',\n",
              " 'Heating',\n",
              " 'High chair',\n",
              " 'High-resolution computer monitor',\n",
              " 'Host greets you',\n",
              " 'Hot tub',\n",
              " 'Hot water',\n",
              " 'Hot water kettle',\n",
              " 'Ice Machine',\n",
              " 'Indoor fireplace',\n",
              " 'Internet',\n",
              " 'Iron',\n",
              " 'Ironing Board',\n",
              " 'Jetted tub',\n",
              " 'Keypad',\n",
              " 'Kitchen',\n",
              " 'Kitchenette',\n",
              " 'Lake access',\n",
              " 'Laptop friendly workspace',\n",
              " 'Lock on bedroom door',\n",
              " 'Lockbox',\n",
              " 'Long term stays allowed',\n",
              " 'Lounge area',\n",
              " 'Luggage dropoff allowed',\n",
              " 'Media room',\n",
              " 'Memory foam mattress',\n",
              " 'Microwave',\n",
              " 'Mini fridge',\n",
              " 'Mobile hoist',\n",
              " 'Mountain view',\n",
              " 'Mudroom',\n",
              " 'Murphy bed',\n",
              " 'Natural gas barbeque',\n",
              " 'Nespresso machine',\n",
              " 'Netflix',\n",
              " 'No stairs or steps to enter',\n",
              " 'Office',\n",
              " 'Other',\n",
              " 'Other pet(s)',\n",
              " 'Outdoor kitchen',\n",
              " 'Outdoor parking',\n",
              " 'Outdoor seating',\n",
              " 'Outlet covers',\n",
              " 'Oven',\n",
              " 'Pack ’n Play/travel crib',\n",
              " 'Paid parking off premises',\n",
              " 'Paid parking on premises',\n",
              " 'Parking',\n",
              " 'Patio or balcony',\n",
              " 'Pets allowed',\n",
              " 'Pets live on this property',\n",
              " 'Piano',\n",
              " 'Pillow-top mattress',\n",
              " 'Pocket wifi',\n",
              " 'Pool',\n",
              " 'Pool cover',\n",
              " 'Pool with pool hoist',\n",
              " 'Printer',\n",
              " 'Private bathroom',\n",
              " 'Private entrance',\n",
              " 'Private gym',\n",
              " 'Private hot tub',\n",
              " 'Private living room',\n",
              " 'Private pool',\n",
              " 'Projector and screen',\n",
              " 'Propane barbeque',\n",
              " 'Rain shower',\n",
              " 'Refrigerator',\n",
              " 'Rooftop',\n",
              " 'Room-darkening shades',\n",
              " 'Safety card',\n",
              " 'Satellite TV',\n",
              " 'Sauna',\n",
              " 'Security system',\n",
              " 'Self check-in',\n",
              " 'Shampoo',\n",
              " 'Shared gym',\n",
              " 'Shared hot tub',\n",
              " 'Shared pool',\n",
              " 'Shower bathtub combo',\n",
              " 'Shower chair',\n",
              " 'Single level home',\n",
              " 'Ski-in/Ski-out',\n",
              " 'Smart TV',\n",
              " 'Smart lock',\n",
              " 'Smoke detector',\n",
              " 'Smoking allowed',\n",
              " 'Soaking tub',\n",
              " 'Sonos sound system',\n",
              " 'Sound system',\n",
              " 'Stair gates',\n",
              " 'Stand alone bathtub',\n",
              " 'Stand alone rain shower',\n",
              " 'Stand alone steam shower',\n",
              " 'Standing valet',\n",
              " 'Steam oven',\n",
              " 'Step-free shower',\n",
              " 'Stove',\n",
              " 'Suitable for events',\n",
              " 'Sun loungers',\n",
              " 'Surround sound system',\n",
              " 'TV',\n",
              " 'Table corner guards',\n",
              " 'Tennis court',\n",
              " 'Terrace',\n",
              " 'Toilet paper',\n",
              " 'Touchless faucets',\n",
              " 'Video Games',\n",
              " 'Walk-in shower',\n",
              " 'Warming drawer',\n",
              " 'Washer',\n",
              " 'Washer / Dryer',\n",
              " 'Waterfront',\n",
              " 'Well-lit path to entrance',\n",
              " 'Wet bar',\n",
              " 'Wheelchair accessible',\n",
              " 'Wide clearance to shower',\n",
              " 'Wide doorway to guest bathroom',\n",
              " 'Wide entrance',\n",
              " 'Wide entrance for guests',\n",
              " 'Wide entryway',\n",
              " 'Wide hallways',\n",
              " 'Wifi',\n",
              " 'Window guards',\n",
              " 'Wine cellar',\n",
              " 'Wine cooler',\n",
              " 'Wood-burning fireplace',\n",
              " 'Yoga studio',\n",
              " 'toilet',\n",
              " 'translation missing: en.hosting_amenity_49',\n",
              " 'translation missing: en.hosting_amenity_50'}"
            ]
          },
          "metadata": {
            "tags": []
          },
          "execution_count": 601
        }
      ]
    },
    {
      "cell_type": "markdown",
      "metadata": {
        "id": "ZTyAlInQQXS8",
        "colab_type": "text"
      },
      "source": [
        "In the list above, some amenities are more important than others (e.g. a balcony is more likely to increase price than a fax machine), and some are likely to be fairly uncommon (e.g. 'Electric profiling bed'). Based on previous experience working in the Airbnb property management industry, and research into which amenities are considered by guests to be more important, a selection of the more important amenities will be extracted. These will be further investigated in the EDA section. For example, if it turns out that almost all properties have/do not have a particular amenity, that feature will not be very useful in helping explain differences in prices.\n",
        "\n",
        "The amenities chosen are (slashes indicate separate categories that can be combined):\n",
        "- 24-hour check-in\n",
        "- Air conditioning/central air conditioning\n",
        "- Amazon Echo/Apple TV/DVD player/game console/Netflix/projector and screen/smart TV (i.e. non-basic electronics)\n",
        "- BBQ grill/fire pit/propane barbeque\n",
        "- Balcony/patio or balcony\n",
        "- Beach view/beachfront/lake access/mountain view/ski-in ski-out/waterfront (i.e. great location/views)\n",
        "- Bed linens\n",
        "- Breakfast\n",
        "- Cable TV/TV\n",
        "- Coffee maker/espresso machine\n",
        "- Cooking basics\n",
        "- Dishwasher/Dryer/Washer/Washer and dryer\n",
        "- Elevator\n",
        "- Exercise equipment/gym/private gym/shared gym\n",
        "- Family/kid friendly, or anything containing 'children'\n",
        "- Free parking on premises/free street parking/outdoor parking/paid parking off premises/paid parking on premises\n",
        "- Garden or backyard/outdoor seating/sun loungers/terrace\n",
        "- Host greets you\n",
        "- Hot tub/jetted tub/private hot tub/sauna/shared hot tub/pool/private pool/shared pool\n",
        "- Internet/pocket wifi/wifi\n",
        "- Long term stays allowed\n",
        "- Pets allowed/cat(s)/dog(s)/pets live on this property/other pet(s)\n",
        "- Private entrance\n",
        "- Safe/security system\n",
        "- Self check-in\n",
        "- Smoking allowed\n",
        "- Step-free access/wheelchair accessible, or anything containing 'accessible'\n",
        "- Suitable for events"
      ]
    },
    {
      "cell_type": "code",
      "metadata": {
        "id": "ZUOXRqeJQQCR",
        "colab_type": "code",
        "outputId": "03a980bc-4a4e-4664-e4c1-8eea44efa044",
        "colab": {
          "base_uri": "https://localhost:8080/",
          "height": 71
        }
      },
      "source": [
        "df.loc[df['amenities'].str.contains('24-hour check-in'), 'check_in_24h'] = 1\n",
        "df.loc[df['amenities'].str.contains('Air conditioning|Central air conditioning'), 'air_conditioning'] = 1\n",
        "df.loc[df['amenities'].str.contains('Amazon Echo|Apple TV|Game console|Netflix|Projector and screen|Smart TV'), 'high_end_electronics'] = 1\n",
        "df.loc[df['amenities'].str.contains('BBQ grill|Fire pit|Propane barbeque'), 'bbq'] = 1\n",
        "df.loc[df['amenities'].str.contains('Balcony|Patio'), 'balcony'] = 1\n",
        "df.loc[df['amenities'].str.contains('Beach view|Beachfront|Lake access|Mountain view|Ski-in/Ski-out|Waterfront'), 'nature_and_views'] = 1\n",
        "df.loc[df['amenities'].str.contains('Bed linens'), 'bed_linen'] = 1\n",
        "df.loc[df['amenities'].str.contains('Breakfast'), 'breakfast'] = 1\n",
        "df.loc[df['amenities'].str.contains('TV'), 'tv'] = 1\n",
        "df.loc[df['amenities'].str.contains('Coffee maker|Espresso machine'), 'coffee_machine'] = 1\n",
        "df.loc[df['amenities'].str.contains('Cooking basics'), 'cooking_basics'] = 1\n",
        "df.loc[df['amenities'].str.contains('Dishwasher|Dryer|Washer'), 'white_goods'] = 1\n",
        "df.loc[df['amenities'].str.contains('Elevator'), 'elevator'] = 1\n",
        "df.loc[df['amenities'].str.contains('Exercise equipment|Gym|gym'), 'gym'] = 1\n",
        "df.loc[df['amenities'].str.contains('Family/kid friendly|Children|children'), 'child_friendly'] = 1\n",
        "df.loc[df['amenities'].str.contains('parking'), 'parking'] = 1\n",
        "df.loc[df['amenities'].str.contains('Garden|Outdoor|Sun loungers|Terrace'), 'outdoor_space'] = 1\n",
        "df.loc[df['amenities'].str.contains('Host greets you'), 'host_greeting'] = 1\n",
        "df.loc[df['amenities'].str.contains('Hot tub|Jetted tub|hot tub|Sauna|Pool|pool'), 'hot_tub_sauna_or_pool'] = 1\n",
        "df.loc[df['amenities'].str.contains('Internet|Pocket wifi|Wifi'), 'internet'] = 1\n",
        "df.loc[df['amenities'].str.contains('Long term stays allowed'), 'long_term_stays'] = 1\n",
        "df.loc[df['amenities'].str.contains('Pets|pet|Cat(s)|Dog(s)'), 'pets_allowed'] = 1\n",
        "df.loc[df['amenities'].str.contains('Private entrance'), 'private_entrance'] = 1\n",
        "df.loc[df['amenities'].str.contains('Safe|Security system'), 'secure'] = 1\n",
        "df.loc[df['amenities'].str.contains('Self check-in'), 'self_check_in'] = 1\n",
        "df.loc[df['amenities'].str.contains('Smoking allowed'), 'smoking_allowed'] = 1\n",
        "df.loc[df['amenities'].str.contains('Step-free access|Wheelchair|Accessible'), 'accessible'] = 1\n",
        "df.loc[df['amenities'].str.contains('Suitable for events'), 'event_suitable'] = 1"
      ],
      "execution_count": 0,
      "outputs": [
        {
          "output_type": "stream",
          "text": [
            "/usr/local/lib/python3.6/dist-packages/pandas/core/strings.py:1843: UserWarning: This pattern has match groups. To actually get the groups, use str.extract.\n",
            "  return func(self, *args, **kwargs)\n"
          ],
          "name": "stderr"
        }
      ]
    },
    {
      "cell_type": "code",
      "metadata": {
        "id": "p_kIDNmgQfQP",
        "colab_type": "code",
        "colab": {}
      },
      "source": [
        "# # Replacing nulls with zeros for new columns\n",
        "# cols_to_replace_nulls = df.iloc[:,41:].columns\n",
        "# df[cols_to_replace_nulls] = df[cols_to_replace_nulls].fillna(0)\n",
        "\n",
        "# # Produces a list of amenity features where one category (true or false) contains fewer than 10% of listings\n",
        "# infrequent_amenities = []\n",
        "# for col in df.iloc[:,41:].columns:\n",
        "#     if df[col].sum() < len(df)/10:\n",
        "#         infrequent_amenities.append(col)\n",
        "# print(infrequent_amenities)\n",
        "\n",
        "# # Dropping infrequent amenity features\n",
        "# df.drop(infrequent_amenities, axis=1, inplace=True)\n",
        "\n",
        "# # Dropping the original amenity feature\n",
        "# df.drop('amenities', axis=1, inplace=True)"
      ],
      "execution_count": 0,
      "outputs": []
    },
    {
      "cell_type": "markdown",
      "metadata": {
        "id": "N4sazaA5SmhH",
        "colab_type": "text"
      },
      "source": [
        "### Price"
      ]
    },
    {
      "cell_type": "code",
      "metadata": {
        "id": "sjcB70RKQtbv",
        "colab_type": "code",
        "outputId": "b35de368-b210-450d-d0fd-835285869413",
        "colab": {
          "base_uri": "https://localhost:8080/",
          "height": 282
        }
      },
      "source": [
        "try:\n",
        "  df.price = df.price.str[1:-3]\n",
        "  df.price = df.price.str.replace(\",\", \"\")\n",
        "  df.price = df.price.astype('int64')\n",
        "  print(df.price.hist())\n",
        "except:\n",
        "  print(df.price.hist())\n",
        "  pass"
      ],
      "execution_count": 0,
      "outputs": [
        {
          "output_type": "stream",
          "text": [
            "AxesSubplot(0.125,0.125;0.775x0.755)\n"
          ],
          "name": "stdout"
        },
        {
          "output_type": "display_data",
          "data": {
            "image/png": "[encoded data removed]",
            "text/plain": [
              "<Figure size 432x288 with 1 Axes>"
            ]
          },
          "metadata": {
            "tags": []
          }
        }
      ]
    },
    {
      "cell_type": "markdown",
      "metadata": {
        "id": "UL9I3kZESzSa",
        "colab_type": "text"
      },
      "source": [
        "### Security Deposit"
      ]
    },
    {
      "cell_type": "code",
      "metadata": {
        "id": "cXWr5ekAROwZ",
        "colab_type": "code",
        "colab": {}
      },
      "source": [
        "df.security_deposit = df.security_deposit.str[1:-3]\n",
        "df.security_deposit = df.security_deposit.str.replace(\",\", \"\")\n",
        "df.security_deposit.fillna(0, inplace=True)\n",
        "df.security_deposit = df.security_deposit.astype('int64')"
      ],
      "execution_count": 0,
      "outputs": []
    },
    {
      "cell_type": "markdown",
      "metadata": {
        "id": "5AS4gWZNS6hs",
        "colab_type": "text"
      },
      "source": [
        "### Cleaning Fee\n"
      ]
    },
    {
      "cell_type": "code",
      "metadata": {
        "id": "VjJe46pwRued",
        "colab_type": "code",
        "colab": {}
      },
      "source": [
        "\n",
        "df.cleaning_fee = df.cleaning_fee.str[1:-3]\n",
        "df.cleaning_fee = df.cleaning_fee.str.replace(\",\", \"\")\n",
        "df.cleaning_fee.fillna(0, inplace=True)\n",
        "df.cleaning_fee = df.cleaning_fee.astype('int64')"
      ],
      "execution_count": 0,
      "outputs": []
    },
    {
      "cell_type": "markdown",
      "metadata": {
        "id": "n4U1X4xPS_mJ",
        "colab_type": "text"
      },
      "source": [
        "### Extra People"
      ]
    },
    {
      "cell_type": "code",
      "metadata": {
        "id": "ifHiMszAS8y6",
        "colab_type": "code",
        "colab": {}
      },
      "source": [
        "df.extra_people = df.extra_people.str[1:-3]\n",
        "df.extra_people = df.extra_people.str.replace(\",\", \"\")\n",
        "df.extra_people.fillna(0, inplace=True)\n",
        "df.extra_people = df.extra_people.astype('int64')"
      ],
      "execution_count": 0,
      "outputs": []
    },
    {
      "cell_type": "markdown",
      "metadata": {
        "id": "30a36E4MTcek",
        "colab_type": "text"
      },
      "source": [
        "### First Review"
      ]
    },
    {
      "cell_type": "code",
      "metadata": {
        "id": "31nZK-JnTCI6",
        "colab_type": "code",
        "colab": {}
      },
      "source": [
        "df.first_review = pd.to_datetime(df.first_review) # Converting to datetime\n",
        "\n",
        "# Calculating the number of days between the first review and the date the data was scraped\n",
        "df['time_since_first_review'] = (datetime.now() - df.first_review).astype('timedelta64[D]')"
      ],
      "execution_count": 0,
      "outputs": []
    },
    {
      "cell_type": "code",
      "metadata": {
        "id": "m0JzxuiOZ0Fu",
        "colab_type": "code",
        "outputId": "a95a95f8-5480-48a7-b4a1-07c2b7f7d035",
        "colab": {
          "base_uri": "https://localhost:8080/",
          "height": 34
        }
      },
      "source": [
        "df[df['first_review'].isnull()==True][['time_since_first_review']].shape"
      ],
      "execution_count": 0,
      "outputs": [
        {
          "output_type": "execute_result",
          "data": {
            "text/plain": [
              "(20006, 1)"
            ]
          },
          "metadata": {
            "tags": []
          },
          "execution_count": 609
        }
      ]
    },
    {
      "cell_type": "code",
      "metadata": {
        "id": "OdTXXTczTeG-",
        "colab_type": "code",
        "colab": {}
      },
      "source": [
        "def bin_column(col, bins, labels, na_label='unknown'):\n",
        "    \"\"\"\n",
        "    Takes in a column name, bin cut points and labels, replaces the original column with a\n",
        "    binned version, and replaces nulls (with 'unknown' if unspecified).\n",
        "    \"\"\"\n",
        "    df[col] = pd.cut(df[col], bins=bins, labels=labels, include_lowest=True)\n",
        "    df[col] = df[col].astype('str')\n",
        "    df[col].fillna(na_label, inplace=True)"
      ],
      "execution_count": 0,
      "outputs": []
    },
    {
      "cell_type": "code",
      "metadata": {
        "id": "3nuqEIMeTih-",
        "colab_type": "code",
        "colab": {}
      },
      "source": [
        "# Binning time since first review\n",
        "bin_column('time_since_first_review',\n",
        "           bins=[0, 182, 365, 730, 1460, max(df.time_since_first_review)],\n",
        "           labels=['0-6 months',\n",
        "                   '6-12 months',\n",
        "                   '1-2 years',\n",
        "                   '2-3 years',\n",
        "                   '4+ years'],\n",
        "           na_label='no reviews')"
      ],
      "execution_count": 0,
      "outputs": []
    },
    {
      "cell_type": "code",
      "metadata": {
        "id": "PvW6HU4MTwap",
        "colab_type": "code",
        "outputId": "42ff920d-57dc-401f-e39d-015b6e8f7bfb",
        "colab": {
          "base_uri": "https://localhost:8080/",
          "height": 320
        }
      },
      "source": [
        "# Distribution of the number of days since first review\n",
        "df.time_since_first_review.hist(figsize=(15,5), bins=30, color=(.3, .84, .77));"
      ],
      "execution_count": 0,
      "outputs": [
        {
          "output_type": "display_data",
          "data": {
            "image/png": "[encoded data removed]",
            "text/plain": [
              "<Figure size 1080x360 with 1 Axes>"
            ]
          },
          "metadata": {
            "tags": []
          }
        }
      ]
    },
    {
      "cell_type": "code",
      "metadata": {
        "id": "yg7B0U2iXYQo",
        "colab_type": "code",
        "colab": {}
      },
      "source": [
        "df.drop('first_review', axis=1, inplace=True)\n",
        "df.drop(['time_since_first_review'], axis=1, inplace=True)"
      ],
      "execution_count": 0,
      "outputs": []
    },
    {
      "cell_type": "markdown",
      "metadata": {
        "id": "t9jOGSANTnmZ",
        "colab_type": "text"
      },
      "source": [
        "### Last Review"
      ]
    },
    {
      "cell_type": "code",
      "metadata": {
        "id": "ZuIxsNvRTkhV",
        "colab_type": "code",
        "colab": {}
      },
      "source": [
        "df.last_review = pd.to_datetime(df.last_review) # Converting to datetime\n",
        "\n",
        "# Calculating the number of days between the most recent review and the date the data was scraped\n",
        "df['time_since_last_review'] = (datetime.now() - df.last_review).astype('timedelta64[D]')"
      ],
      "execution_count": 0,
      "outputs": []
    },
    {
      "cell_type": "code",
      "metadata": {
        "id": "up8QoFERTplE",
        "colab_type": "code",
        "outputId": "2bd80483-e53c-479c-f66a-1be2c997f8c7",
        "colab": {
          "base_uri": "https://localhost:8080/",
          "height": 320
        }
      },
      "source": [
        "# Distribution of the number of days since last review\n",
        "df.time_since_last_review.hist(figsize=(15,5), bins=30,color=(.3, .84, .77));"
      ],
      "execution_count": 0,
      "outputs": [
        {
          "output_type": "display_data",
          "data": {
            "image/png": "[encoded data removed]",
            "text/plain": [
              "<Figure size 1080x360 with 1 Axes>"
            ]
          },
          "metadata": {
            "tags": []
          }
        }
      ]
    },
    {
      "cell_type": "code",
      "metadata": {
        "id": "F0HF3odmTrk8",
        "colab_type": "code",
        "colab": {}
      },
      "source": [
        "# Binning time since last review\n",
        "bin_column('time_since_last_review',\n",
        "           bins=[0, 14, 60, 182, 365, max(df.time_since_last_review)],\n",
        "           labels=['0-2 weeks',\n",
        "                   '2-8 weeks',\n",
        "                   '2-6 months',\n",
        "                   '6-12 months',\n",
        "                   '1+ year'],\n",
        "           na_label='no reviews')"
      ],
      "execution_count": 0,
      "outputs": []
    },
    {
      "cell_type": "code",
      "metadata": {
        "id": "6FdgK-BWcRpj",
        "colab_type": "code",
        "outputId": "915b3a00-1697-4fb5-9447-830dece32c9e",
        "colab": {
          "base_uri": "https://localhost:8080/",
          "height": 323
        }
      },
      "source": [
        "# Distribution of the number of days since first review\n",
        "df.time_since_last_review.hist(figsize=(15,5), bins=30, color=(.3, .84, .77));"
      ],
      "execution_count": 0,
      "outputs": [
        {
          "output_type": "display_data",
          "data": {
            "image/png": "[encoded data removed]",
            "text/plain": [
              "<Figure size 1080x360 with 1 Axes>"
            ]
          },
          "metadata": {
            "tags": []
          }
        }
      ]
    },
    {
      "cell_type": "code",
      "metadata": {
        "id": "7IeTaSTwTtxL",
        "colab_type": "code",
        "colab": {}
      },
      "source": [
        "# Dropping last_review - first_review will be kept for EDA and dropped later\n",
        "df.drop('last_review', axis=1, inplace=True)\n",
        "df.drop(['time_since_last_review'], axis=1, inplace=True)"
      ],
      "execution_count": 0,
      "outputs": []
    },
    {
      "cell_type": "markdown",
      "metadata": {
        "id": "nwWH5AabUIyg",
        "colab_type": "text"
      },
      "source": [
        "### Review Ratings\n"
      ]
    },
    {
      "cell_type": "code",
      "metadata": {
        "id": "mv2uUcpjT8AB",
        "colab_type": "code",
        "outputId": "b039eebb-9c75-48a2-cccf-5cd270437c44",
        "colab": {
          "base_uri": "https://localhost:8080/",
          "height": 408
        }
      },
      "source": [
        "# Checking the distributions of the review ratings columns\n",
        "variables_to_plot = list(df.columns[df.columns.str.startswith(\"review_scores\") == True])\n",
        "fig = plt.figure(figsize=(12,8))\n",
        "for i, var_name in enumerate(variables_to_plot):\n",
        "    ax = fig.add_subplot(3,3,i+1)\n",
        "    df[var_name].hist(bins=10,ax=ax,color=(.3, .84, .77))\n",
        "    ax.set_title(var_name)\n",
        "fig.tight_layout()\n",
        "plt.show()"
      ],
      "execution_count": 0,
      "outputs": [
        {
          "output_type": "display_data",
          "data": {
            "image/png": "[encoded data removed]",
            "text/plain": [
              "<Figure size 864x576 with 4 Axes>"
            ]
          },
          "metadata": {
            "tags": []
          }
        }
      ]
    },
    {
      "cell_type": "code",
      "metadata": {
        "id": "JtvOJpbXUS5K",
        "colab_type": "code",
        "colab": {}
      },
      "source": [
        "# Creating a list of all review columns that are scored out of 10\n",
        "variables_to_plot.pop(0)\n",
        "\n",
        "# Binning for all columns scored out of 10\n",
        "for col in variables_to_plot:\n",
        "    bin_column(col,\n",
        "               bins=[0, 8, 9, 10],\n",
        "               labels=['0-8/10', '9/10', '10/10'],\n",
        "               na_label='no reviews')\n",
        "# Binning column scored out of 100\n",
        "bin_column('review_scores_rating',\n",
        "           bins=[0, 80, 95, 100],\n",
        "           labels=['0-79/100', '80-94/100', '95-100/100'],\n",
        "           na_label='no reviews')"
      ],
      "execution_count": 0,
      "outputs": []
    },
    {
      "cell_type": "markdown",
      "metadata": {
        "id": "yfwQtvcUVxda",
        "colab_type": "text"
      },
      "source": [
        "### Cancelation Policy"
      ]
    },
    {
      "cell_type": "code",
      "metadata": {
        "id": "pm6bKclWUZRq",
        "colab_type": "code",
        "outputId": "eb43b0fd-0a14-496f-8a92-6a01e33dafa1",
        "colab": {
          "base_uri": "https://localhost:8080/",
          "height": 170
        }
      },
      "source": [
        "df.cancellation_policy.value_counts()"
      ],
      "execution_count": 0,
      "outputs": [
        {
          "output_type": "execute_result",
          "data": {
            "text/plain": [
              "strict_14_with_grace_period    36763\n",
              "flexible                       27294\n",
              "moderate                       20022\n",
              "super_strict_60                  574\n",
              "super_strict_30                  376\n",
              "luxury_moderate                   27\n",
              "strict                             8\n",
              "luxury_super_strict_95             4\n",
              "Name: cancellation_policy, dtype: int64"
            ]
          },
          "metadata": {
            "tags": []
          },
          "execution_count": 621
        }
      ]
    },
    {
      "cell_type": "code",
      "metadata": {
        "id": "ywfWpRXXV6CW",
        "colab_type": "code",
        "colab": {}
      },
      "source": [
        "# Replacing categories\n",
        "df.cancellation_policy.replace({\n",
        "    'super_strict_30': 'strict_14_with_grace_period',\n",
        "    'super_strict_60': 'strict_14_with_grace_period',\n",
        "    'strict': 'strict_14_with_grace_period',\n",
        "    'luxury_moderate': 'moderate'\n",
        "    }, inplace=True)"
      ],
      "execution_count": 0,
      "outputs": []
    },
    {
      "cell_type": "code",
      "metadata": {
        "id": "kUzMEwjLV8v9",
        "colab_type": "code",
        "colab": {}
      },
      "source": [
        "df.drop(['number_of_reviews_ltm'], axis=1, inplace=True)"
      ],
      "execution_count": 0,
      "outputs": []
    },
    {
      "cell_type": "code",
      "metadata": {
        "id": "Bnj8gyd7V_i9",
        "colab_type": "code",
        "outputId": "cf7e5258-78d2-4cb0-d463-544e35b833fb",
        "colab": {
          "base_uri": "https://localhost:8080/",
          "height": 1000
        }
      },
      "source": [
        "df.info(verbose=True,null_counts=True, )"
      ],
      "execution_count": 0,
      "outputs": [
        {
          "output_type": "stream",
          "text": [
            "<class 'pandas.core.frame.DataFrame'>\n",
            "Int64Index: 85068 entries, 11551 to 39869282\n",
            "Data columns (total 71 columns):\n",
            "experiences_offered                 85068 non-null object\n",
            "host_since                          85056 non-null datetime64[ns]\n",
            "host_response_time                  85068 non-null object\n",
            "host_response_rate                  85068 non-null object\n",
            "host_is_superhost                   85056 non-null float64\n",
            "host_listings_count                 85056 non-null float64\n",
            "host_has_profile_pic                85056 non-null float64\n",
            "host_identity_verified              85056 non-null float64\n",
            "neighbourhood_cleansed              85068 non-null object\n",
            "latitude                            85068 non-null float64\n",
            "longitude                           85068 non-null float64\n",
            "property_type                       85068 non-null object\n",
            "room_type                           85068 non-null object\n",
            "accommodates                        85068 non-null int64\n",
            "bathrooms                           85068 non-null float64\n",
            "bedrooms                            85068 non-null float64\n",
            "beds                                85068 non-null float64\n",
            "bed_type                            85068 non-null object\n",
            "amenities                           85068 non-null object\n",
            "price                               85068 non-null int64\n",
            "security_deposit                    85068 non-null int64\n",
            "cleaning_fee                        85068 non-null int64\n",
            "guests_included                     85068 non-null int64\n",
            "extra_people                        85068 non-null int64\n",
            "minimum_nights                      85068 non-null int64\n",
            "maximum_nights                      85068 non-null int64\n",
            "has_availability                    85068 non-null int64\n",
            "availability_30                     85068 non-null int64\n",
            "availability_60                     85068 non-null int64\n",
            "availability_90                     85068 non-null int64\n",
            "availability_365                    85068 non-null int64\n",
            "number_of_reviews                   85068 non-null int64\n",
            "review_scores_rating                85068 non-null object\n",
            "review_scores_accuracy              85068 non-null object\n",
            "review_scores_cleanliness           85068 non-null object\n",
            "review_scores_value                 85068 non-null object\n",
            "requires_license                    85068 non-null int64\n",
            "instant_bookable                    85068 non-null int64\n",
            "is_business_travel_ready            85068 non-null int64\n",
            "cancellation_policy                 85068 non-null object\n",
            "require_guest_profile_picture       85068 non-null int64\n",
            "require_guest_phone_verification    85068 non-null int64\n",
            "host_days_active                    85068 non-null float64\n",
            "check_in_24h                        5491 non-null float64\n",
            "air_conditioning                    5006 non-null float64\n",
            "high_end_electronics                1209 non-null float64\n",
            "bbq                                 2719 non-null float64\n",
            "balcony                             10416 non-null float64\n",
            "nature_and_views                    996 non-null float64\n",
            "bed_linen                           30447 non-null float64\n",
            "breakfast                           11214 non-null float64\n",
            "tv                                  58832 non-null float64\n",
            "coffee_machine                      16191 non-null float64\n",
            "cooking_basics                      27411 non-null float64\n",
            "white_goods                         73765 non-null float64\n",
            "elevator                            19172 non-null float64\n",
            "gym                                 2545 non-null float64\n",
            "child_friendly                      25972 non-null float64\n",
            "parking                             33879 non-null float64\n",
            "outdoor_space                       10214 non-null float64\n",
            "host_greeting                       15946 non-null float64\n",
            "hot_tub_sauna_or_pool               3546 non-null float64\n",
            "internet                            82005 non-null float64\n",
            "long_term_stays                     18657 non-null float64\n",
            "pets_allowed                        9276 non-null float64\n",
            "private_entrance                    20194 non-null float64\n",
            "secure                              7211 non-null float64\n",
            "self_check_in                       13767 non-null float64\n",
            "smoking_allowed                     6602 non-null float64\n",
            "accessible                          4394 non-null float64\n",
            "event_suitable                      1701 non-null float64\n",
            "dtypes: datetime64[ns](1), float64(38), int64(19), object(13)\n",
            "memory usage: 46.7+ MB\n"
          ],
          "name": "stdout"
        }
      ]
    },
    {
      "cell_type": "code",
      "metadata": {
        "id": "hz7UYRstWMGb",
        "colab_type": "code",
        "colab": {}
      },
      "source": [
        "df.fillna(0, inplace=True)"
      ],
      "execution_count": 0,
      "outputs": []
    },
    {
      "cell_type": "code",
      "metadata": {
        "id": "eMCFiW7sXJ18",
        "colab_type": "code",
        "outputId": "e0e5b530-0dbb-4b04-e14d-6e237ceb6dbd",
        "colab": {
          "base_uri": "https://localhost:8080/",
          "height": 1000
        }
      },
      "source": [
        "df.info(verbose=True,null_counts=True, )"
      ],
      "execution_count": 0,
      "outputs": [
        {
          "output_type": "stream",
          "text": [
            "<class 'pandas.core.frame.DataFrame'>\n",
            "Int64Index: 85068 entries, 11551 to 39869282\n",
            "Data columns (total 71 columns):\n",
            "experiences_offered                 85068 non-null object\n",
            "host_since                          85068 non-null object\n",
            "host_response_time                  85068 non-null object\n",
            "host_response_rate                  85068 non-null object\n",
            "host_is_superhost                   85068 non-null float64\n",
            "host_listings_count                 85068 non-null float64\n",
            "host_has_profile_pic                85068 non-null float64\n",
            "host_identity_verified              85068 non-null float64\n",
            "neighbourhood_cleansed              85068 non-null object\n",
            "latitude                            85068 non-null float64\n",
            "longitude                           85068 non-null float64\n",
            "property_type                       85068 non-null object\n",
            "room_type                           85068 non-null object\n",
            "accommodates                        85068 non-null int64\n",
            "bathrooms                           85068 non-null float64\n",
            "bedrooms                            85068 non-null float64\n",
            "beds                                85068 non-null float64\n",
            "bed_type                            85068 non-null object\n",
            "amenities                           85068 non-null object\n",
            "price                               85068 non-null int64\n",
            "security_deposit                    85068 non-null int64\n",
            "cleaning_fee                        85068 non-null int64\n",
            "guests_included                     85068 non-null int64\n",
            "extra_people                        85068 non-null int64\n",
            "minimum_nights                      85068 non-null int64\n",
            "maximum_nights                      85068 non-null int64\n",
            "has_availability                    85068 non-null int64\n",
            "availability_30                     85068 non-null int64\n",
            "availability_60                     85068 non-null int64\n",
            "availability_90                     85068 non-null int64\n",
            "availability_365                    85068 non-null int64\n",
            "number_of_reviews                   85068 non-null int64\n",
            "review_scores_rating                85068 non-null object\n",
            "review_scores_accuracy              85068 non-null object\n",
            "review_scores_cleanliness           85068 non-null object\n",
            "review_scores_value                 85068 non-null object\n",
            "requires_license                    85068 non-null int64\n",
            "instant_bookable                    85068 non-null int64\n",
            "is_business_travel_ready            85068 non-null int64\n",
            "cancellation_policy                 85068 non-null object\n",
            "require_guest_profile_picture       85068 non-null int64\n",
            "require_guest_phone_verification    85068 non-null int64\n",
            "host_days_active                    85068 non-null float64\n",
            "check_in_24h                        85068 non-null float64\n",
            "air_conditioning                    85068 non-null float64\n",
            "high_end_electronics                85068 non-null float64\n",
            "bbq                                 85068 non-null float64\n",
            "balcony                             85068 non-null float64\n",
            "nature_and_views                    85068 non-null float64\n",
            "bed_linen                           85068 non-null float64\n",
            "breakfast                           85068 non-null float64\n",
            "tv                                  85068 non-null float64\n",
            "coffee_machine                      85068 non-null float64\n",
            "cooking_basics                      85068 non-null float64\n",
            "white_goods                         85068 non-null float64\n",
            "elevator                            85068 non-null float64\n",
            "gym                                 85068 non-null float64\n",
            "child_friendly                      85068 non-null float64\n",
            "parking                             85068 non-null float64\n",
            "outdoor_space                       85068 non-null float64\n",
            "host_greeting                       85068 non-null float64\n",
            "hot_tub_sauna_or_pool               85068 non-null float64\n",
            "internet                            85068 non-null float64\n",
            "long_term_stays                     85068 non-null float64\n",
            "pets_allowed                        85068 non-null float64\n",
            "private_entrance                    85068 non-null float64\n",
            "secure                              85068 non-null float64\n",
            "self_check_in                       85068 non-null float64\n",
            "smoking_allowed                     85068 non-null float64\n",
            "accessible                          85068 non-null float64\n",
            "event_suitable                      85068 non-null float64\n",
            "dtypes: float64(38), int64(19), object(14)\n",
            "memory usage: 46.7+ MB\n"
          ],
          "name": "stdout"
        }
      ]
    },
    {
      "cell_type": "code",
      "metadata": {
        "id": "54_eprIQctoM",
        "colab_type": "code",
        "colab": {}
      },
      "source": [
        "df.to_csv('/content/drive/My Drive/data/processed_data/processed.csv')\n"
      ],
      "execution_count": 0,
      "outputs": []
    },
    {
      "cell_type": "code",
      "metadata": {
        "id": "5VQeG3jDg3ei",
        "colab_type": "code",
        "colab": {}
      },
      "source": [
        ""
      ],
      "execution_count": 0,
      "outputs": []
    }
  ]
}